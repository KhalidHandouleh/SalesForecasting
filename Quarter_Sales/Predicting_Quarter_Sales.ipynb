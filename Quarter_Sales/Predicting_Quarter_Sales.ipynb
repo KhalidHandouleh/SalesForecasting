{
 "cells": [
  {
   "cell_type": "code",
   "execution_count": 34,
   "metadata": {},
   "outputs": [],
   "source": [
    "import pandas as pd\n",
    "import matplotlib\n",
    "import matplotlib.pyplot as plt \n",
    "import seaborn as sn\n"
   ]
  },
  {
   "cell_type": "code",
   "execution_count": 35,
   "metadata": {},
   "outputs": [],
   "source": [
    "# Import the data\n",
    "df = pd.read_excel(\"Electronic-store-sales-details.xls\")\n",
    "df['Order Date'] = pd.to_datetime(df['Order Date'])\n"
   ]
  },
  {
   "cell_type": "code",
   "execution_count": 36,
   "metadata": {},
   "outputs": [],
   "source": [
    "# Rename column Order Date to Date\n",
    "df.rename(columns = {'Order Date':'Date'}, inplace = True)"
   ]
  },
  {
   "cell_type": "code",
   "execution_count": 37,
   "metadata": {},
   "outputs": [
    {
     "data": {
      "text/html": [
       "<div>\n",
       "<style scoped>\n",
       "    .dataframe tbody tr th:only-of-type {\n",
       "        vertical-align: middle;\n",
       "    }\n",
       "\n",
       "    .dataframe tbody tr th {\n",
       "        vertical-align: top;\n",
       "    }\n",
       "\n",
       "    .dataframe thead th {\n",
       "        text-align: right;\n",
       "    }\n",
       "</style>\n",
       "<table border=\"1\" class=\"dataframe\">\n",
       "  <thead>\n",
       "    <tr style=\"text-align: right;\">\n",
       "      <th></th>\n",
       "      <th>Row ID</th>\n",
       "      <th>Order ID</th>\n",
       "      <th>Date</th>\n",
       "      <th>Ship Date</th>\n",
       "      <th>Ship Mode</th>\n",
       "      <th>Customer ID</th>\n",
       "      <th>Customer Name</th>\n",
       "      <th>Segment</th>\n",
       "      <th>Country</th>\n",
       "      <th>City</th>\n",
       "      <th>...</th>\n",
       "      <th>Postal Code</th>\n",
       "      <th>Region</th>\n",
       "      <th>Product ID</th>\n",
       "      <th>Category</th>\n",
       "      <th>Sub-Category</th>\n",
       "      <th>Product Name</th>\n",
       "      <th>Sales</th>\n",
       "      <th>Quantity</th>\n",
       "      <th>Discount</th>\n",
       "      <th>Profit</th>\n",
       "    </tr>\n",
       "  </thead>\n",
       "  <tbody>\n",
       "    <tr>\n",
       "      <th>0</th>\n",
       "      <td>1</td>\n",
       "      <td>CA-2016-152156</td>\n",
       "      <td>2016-11-08</td>\n",
       "      <td>2016-11-11</td>\n",
       "      <td>Second Class</td>\n",
       "      <td>CG-12520</td>\n",
       "      <td>Claire Gute</td>\n",
       "      <td>Consumer</td>\n",
       "      <td>United States</td>\n",
       "      <td>Henderson</td>\n",
       "      <td>...</td>\n",
       "      <td>42420</td>\n",
       "      <td>South</td>\n",
       "      <td>FUR-BO-10001798</td>\n",
       "      <td>Laptops</td>\n",
       "      <td>Dell</td>\n",
       "      <td>Bush Somerset Collection Bookcase</td>\n",
       "      <td>261.96</td>\n",
       "      <td>2</td>\n",
       "      <td>0.0</td>\n",
       "      <td>41.9136</td>\n",
       "    </tr>\n",
       "    <tr>\n",
       "      <th>1</th>\n",
       "      <td>2</td>\n",
       "      <td>CA-2016-152156</td>\n",
       "      <td>2016-11-08</td>\n",
       "      <td>2016-11-11</td>\n",
       "      <td>Second Class</td>\n",
       "      <td>CG-12520</td>\n",
       "      <td>Claire Gute</td>\n",
       "      <td>Consumer</td>\n",
       "      <td>United States</td>\n",
       "      <td>Henderson</td>\n",
       "      <td>...</td>\n",
       "      <td>42420</td>\n",
       "      <td>South</td>\n",
       "      <td>FUR-CH-10000454</td>\n",
       "      <td>Laptops</td>\n",
       "      <td>HP</td>\n",
       "      <td>Hon Deluxe Fabric Upholstered Stacking HP, Rou...</td>\n",
       "      <td>731.94</td>\n",
       "      <td>3</td>\n",
       "      <td>0.0</td>\n",
       "      <td>219.5820</td>\n",
       "    </tr>\n",
       "  </tbody>\n",
       "</table>\n",
       "<p>2 rows × 21 columns</p>\n",
       "</div>"
      ],
      "text/plain": [
       "   Row ID        Order ID       Date  Ship Date     Ship Mode Customer ID  \\\n",
       "0       1  CA-2016-152156 2016-11-08 2016-11-11  Second Class    CG-12520   \n",
       "1       2  CA-2016-152156 2016-11-08 2016-11-11  Second Class    CG-12520   \n",
       "\n",
       "  Customer Name   Segment        Country       City  ... Postal Code  Region  \\\n",
       "0   Claire Gute  Consumer  United States  Henderson  ...       42420   South   \n",
       "1   Claire Gute  Consumer  United States  Henderson  ...       42420   South   \n",
       "\n",
       "        Product ID Category Sub-Category  \\\n",
       "0  FUR-BO-10001798  Laptops         Dell   \n",
       "1  FUR-CH-10000454  Laptops           HP   \n",
       "\n",
       "                                        Product Name   Sales  Quantity  \\\n",
       "0                  Bush Somerset Collection Bookcase  261.96         2   \n",
       "1  Hon Deluxe Fabric Upholstered Stacking HP, Rou...  731.94         3   \n",
       "\n",
       "   Discount    Profit  \n",
       "0       0.0   41.9136  \n",
       "1       0.0  219.5820  \n",
       "\n",
       "[2 rows x 21 columns]"
      ]
     },
     "execution_count": 37,
     "metadata": {},
     "output_type": "execute_result"
    }
   ],
   "source": [
    "df.head(2)"
   ]
  },
  {
   "cell_type": "code",
   "execution_count": 38,
   "metadata": {},
   "outputs": [
    {
     "data": {
      "text/html": [
       "<div>\n",
       "<style scoped>\n",
       "    .dataframe tbody tr th:only-of-type {\n",
       "        vertical-align: middle;\n",
       "    }\n",
       "\n",
       "    .dataframe tbody tr th {\n",
       "        vertical-align: top;\n",
       "    }\n",
       "\n",
       "    .dataframe thead th {\n",
       "        text-align: right;\n",
       "    }\n",
       "</style>\n",
       "<table border=\"1\" class=\"dataframe\">\n",
       "  <thead>\n",
       "    <tr style=\"text-align: right;\">\n",
       "      <th></th>\n",
       "      <th>Date</th>\n",
       "      <th>Sales</th>\n",
       "      <th>Row ID</th>\n",
       "      <th>Postal Code</th>\n",
       "      <th>Quantity</th>\n",
       "      <th>Discount</th>\n",
       "      <th>Profit</th>\n",
       "    </tr>\n",
       "  </thead>\n",
       "  <tbody>\n",
       "    <tr>\n",
       "      <th>0</th>\n",
       "      <td>2016-03-31</td>\n",
       "      <td>1.272</td>\n",
       "      <td>2347</td>\n",
       "      <td>78207</td>\n",
       "      <td>2</td>\n",
       "      <td>0.8</td>\n",
       "      <td>-2.1624</td>\n",
       "    </tr>\n",
       "    <tr>\n",
       "      <th>1</th>\n",
       "      <td>2016-03-31</td>\n",
       "      <td>1.344</td>\n",
       "      <td>3767</td>\n",
       "      <td>77036</td>\n",
       "      <td>1</td>\n",
       "      <td>0.2</td>\n",
       "      <td>0.5040</td>\n",
       "    </tr>\n",
       "    <tr>\n",
       "      <th>2</th>\n",
       "      <td>2016-03-31</td>\n",
       "      <td>1.728</td>\n",
       "      <td>8926</td>\n",
       "      <td>61107</td>\n",
       "      <td>3</td>\n",
       "      <td>0.8</td>\n",
       "      <td>-2.6784</td>\n",
       "    </tr>\n",
       "    <tr>\n",
       "      <th>3</th>\n",
       "      <td>2016-03-31</td>\n",
       "      <td>1.728</td>\n",
       "      <td>8983</td>\n",
       "      <td>60623</td>\n",
       "      <td>4</td>\n",
       "      <td>0.8</td>\n",
       "      <td>-2.7648</td>\n",
       "    </tr>\n",
       "    <tr>\n",
       "      <th>4</th>\n",
       "      <td>2016-03-31</td>\n",
       "      <td>2.043</td>\n",
       "      <td>8444</td>\n",
       "      <td>19120</td>\n",
       "      <td>1</td>\n",
       "      <td>0.7</td>\n",
       "      <td>-1.4982</td>\n",
       "    </tr>\n",
       "  </tbody>\n",
       "</table>\n",
       "</div>"
      ],
      "text/plain": [
       "        Date  Sales  Row ID  Postal Code  Quantity  Discount  Profit\n",
       "0 2016-03-31  1.272    2347        78207         2       0.8 -2.1624\n",
       "1 2016-03-31  1.344    3767        77036         1       0.2  0.5040\n",
       "2 2016-03-31  1.728    8926        61107         3       0.8 -2.6784\n",
       "3 2016-03-31  1.728    8983        60623         4       0.8 -2.7648\n",
       "4 2016-03-31  2.043    8444        19120         1       0.7 -1.4982"
      ]
     },
     "execution_count": 38,
     "metadata": {},
     "output_type": "execute_result"
    }
   ],
   "source": [
    "# Group data to qaurter sales \n",
    "df =  df.set_index(\"Date\").groupby([pd.Grouper(freq=\"Q\"), 'Sales']).sum().reset_index()\n",
    "df.head()"
   ]
  },
  {
   "cell_type": "code",
   "execution_count": 32,
   "metadata": {},
   "outputs": [
    {
     "data": {
      "image/png": "[encoded data removed]",
      "text/plain": [
       "<Figure size 864x864 with 2 Axes>"
      ]
     },
     "metadata": {
      "needs_background": "light"
     },
     "output_type": "display_data"
    }
   ],
   "source": [
    "#Calculating Correlation\n",
    "correlation = df.corr()\n",
    "\n",
    "#Plotting correlation\n",
    "matplotlib.pyplot.figure(figsize=(12,12))\n",
    "corr_heatmap = sn.heatmap(correlation,annot=True,cmap=\"YlOrRd\")"
   ]
  },
  {
   "cell_type": "markdown",
   "metadata": {},
   "source": [
    "##### Sales and profit has the bigest relation.Sales and Quantity are also related to each other. "
   ]
  },
  {
   "cell_type": "code",
   "execution_count": 9,
   "metadata": {},
   "outputs": [],
   "source": [
    "df = df[['Date', 'Sales', 'Quantity', 'Profit']]"
   ]
  },
  {
   "cell_type": "code",
   "execution_count": 10,
   "metadata": {},
   "outputs": [
    {
     "data": {
      "text/html": [
       "<div>\n",
       "<style scoped>\n",
       "    .dataframe tbody tr th:only-of-type {\n",
       "        vertical-align: middle;\n",
       "    }\n",
       "\n",
       "    .dataframe tbody tr th {\n",
       "        vertical-align: top;\n",
       "    }\n",
       "\n",
       "    .dataframe thead th {\n",
       "        text-align: right;\n",
       "    }\n",
       "</style>\n",
       "<table border=\"1\" class=\"dataframe\">\n",
       "  <thead>\n",
       "    <tr style=\"text-align: right;\">\n",
       "      <th></th>\n",
       "      <th>Sales</th>\n",
       "      <th>Quantity</th>\n",
       "      <th>Profit</th>\n",
       "    </tr>\n",
       "    <tr>\n",
       "      <th>Date</th>\n",
       "      <th></th>\n",
       "      <th></th>\n",
       "      <th></th>\n",
       "    </tr>\n",
       "  </thead>\n",
       "  <tbody>\n",
       "    <tr>\n",
       "      <th>2016-03-31</th>\n",
       "      <td>92369.1410</td>\n",
       "      <td>1243</td>\n",
       "      <td>11441.3708</td>\n",
       "    </tr>\n",
       "    <tr>\n",
       "      <th>2016-06-30</th>\n",
       "      <td>134586.0130</td>\n",
       "      <td>2240</td>\n",
       "      <td>16390.3394</td>\n",
       "    </tr>\n",
       "    <tr>\n",
       "      <th>2016-09-30</th>\n",
       "      <td>137277.6242</td>\n",
       "      <td>2767</td>\n",
       "      <td>15823.6048</td>\n",
       "    </tr>\n",
       "    <tr>\n",
       "      <th>2016-12-31</th>\n",
       "      <td>229642.8178</td>\n",
       "      <td>3587</td>\n",
       "      <td>38139.8593</td>\n",
       "    </tr>\n",
       "    <tr>\n",
       "      <th>2017-03-31</th>\n",
       "      <td>118041.0552</td>\n",
       "      <td>1845</td>\n",
       "      <td>23506.2026</td>\n",
       "    </tr>\n",
       "    <tr>\n",
       "      <th>2017-06-30</th>\n",
       "      <td>130551.0360</td>\n",
       "      <td>2551</td>\n",
       "      <td>15499.2085</td>\n",
       "    </tr>\n",
       "    <tr>\n",
       "      <th>2017-09-30</th>\n",
       "      <td>190216.9160</td>\n",
       "      <td>3384</td>\n",
       "      <td>26985.1325</td>\n",
       "    </tr>\n",
       "    <tr>\n",
       "      <th>2017-12-31</th>\n",
       "      <td>273487.9340</td>\n",
       "      <td>4696</td>\n",
       "      <td>27448.7260</td>\n",
       "    </tr>\n",
       "    <tr>\n",
       "      <th>2018-03-31</th>\n",
       "      <td>74231.8280</td>\n",
       "      <td>1028</td>\n",
       "      <td>3811.2290</td>\n",
       "    </tr>\n",
       "    <tr>\n",
       "      <th>2018-06-30</th>\n",
       "      <td>84780.2736</td>\n",
       "      <td>1523</td>\n",
       "      <td>11204.0692</td>\n",
       "    </tr>\n",
       "    <tr>\n",
       "      <th>2018-09-30</th>\n",
       "      <td>141973.0323</td>\n",
       "      <td>2159</td>\n",
       "      <td>12804.7218</td>\n",
       "    </tr>\n",
       "    <tr>\n",
       "      <th>2018-12-31</th>\n",
       "      <td>175924.5922</td>\n",
       "      <td>2871</td>\n",
       "      <td>21723.9541</td>\n",
       "    </tr>\n",
       "    <tr>\n",
       "      <th>2019-03-31</th>\n",
       "      <td>68708.7906</td>\n",
       "      <td>990</td>\n",
       "      <td>9264.9416</td>\n",
       "    </tr>\n",
       "    <tr>\n",
       "      <th>2019-06-30</th>\n",
       "      <td>87625.8250</td>\n",
       "      <td>1604</td>\n",
       "      <td>12190.9224</td>\n",
       "    </tr>\n",
       "    <tr>\n",
       "      <th>2019-09-30</th>\n",
       "      <td>126847.5072</td>\n",
       "      <td>2241</td>\n",
       "      <td>16853.6194</td>\n",
       "    </tr>\n",
       "    <tr>\n",
       "      <th>2019-12-31</th>\n",
       "      <td>176913.2982</td>\n",
       "      <td>3144</td>\n",
       "      <td>23309.1203</td>\n",
       "    </tr>\n",
       "  </tbody>\n",
       "</table>\n",
       "</div>"
      ],
      "text/plain": [
       "                  Sales  Quantity      Profit\n",
       "Date                                         \n",
       "2016-03-31   92369.1410      1243  11441.3708\n",
       "2016-06-30  134586.0130      2240  16390.3394\n",
       "2016-09-30  137277.6242      2767  15823.6048\n",
       "2016-12-31  229642.8178      3587  38139.8593\n",
       "2017-03-31  118041.0552      1845  23506.2026\n",
       "2017-06-30  130551.0360      2551  15499.2085\n",
       "2017-09-30  190216.9160      3384  26985.1325\n",
       "2017-12-31  273487.9340      4696  27448.7260\n",
       "2018-03-31   74231.8280      1028   3811.2290\n",
       "2018-06-30   84780.2736      1523  11204.0692\n",
       "2018-09-30  141973.0323      2159  12804.7218\n",
       "2018-12-31  175924.5922      2871  21723.9541\n",
       "2019-03-31   68708.7906       990   9264.9416\n",
       "2019-06-30   87625.8250      1604  12190.9224\n",
       "2019-09-30  126847.5072      2241  16853.6194\n",
       "2019-12-31  176913.2982      3144  23309.1203"
      ]
     },
     "execution_count": 10,
     "metadata": {},
     "output_type": "execute_result"
    }
   ],
   "source": [
    "df = df.groupby([\"Date\"]).sum()\n",
    "df"
   ]
  },
  {
   "cell_type": "code",
   "execution_count": 11,
   "metadata": {},
   "outputs": [],
   "source": [
    "df.to_csv('sales_data.csv')"
   ]
  },
  {
   "cell_type": "code",
   "execution_count": 12,
   "metadata": {},
   "outputs": [],
   "source": [
    "df = pd.read_csv('sales_data.csv')"
   ]
  },
  {
   "cell_type": "code",
   "execution_count": 13,
   "metadata": {},
   "outputs": [
    {
     "data": {
      "text/html": [
       "<div>\n",
       "<style scoped>\n",
       "    .dataframe tbody tr th:only-of-type {\n",
       "        vertical-align: middle;\n",
       "    }\n",
       "\n",
       "    .dataframe tbody tr th {\n",
       "        vertical-align: top;\n",
       "    }\n",
       "\n",
       "    .dataframe thead th {\n",
       "        text-align: right;\n",
       "    }\n",
       "</style>\n",
       "<table border=\"1\" class=\"dataframe\">\n",
       "  <thead>\n",
       "    <tr style=\"text-align: right;\">\n",
       "      <th></th>\n",
       "      <th>Date</th>\n",
       "      <th>Sales</th>\n",
       "      <th>Quantity</th>\n",
       "      <th>Profit</th>\n",
       "    </tr>\n",
       "  </thead>\n",
       "  <tbody>\n",
       "    <tr>\n",
       "      <th>0</th>\n",
       "      <td>2016-03-31</td>\n",
       "      <td>92369.1410</td>\n",
       "      <td>1243</td>\n",
       "      <td>11441.3708</td>\n",
       "    </tr>\n",
       "    <tr>\n",
       "      <th>1</th>\n",
       "      <td>2016-06-30</td>\n",
       "      <td>134586.0130</td>\n",
       "      <td>2240</td>\n",
       "      <td>16390.3394</td>\n",
       "    </tr>\n",
       "    <tr>\n",
       "      <th>2</th>\n",
       "      <td>2016-09-30</td>\n",
       "      <td>137277.6242</td>\n",
       "      <td>2767</td>\n",
       "      <td>15823.6048</td>\n",
       "    </tr>\n",
       "    <tr>\n",
       "      <th>3</th>\n",
       "      <td>2016-12-31</td>\n",
       "      <td>229642.8178</td>\n",
       "      <td>3587</td>\n",
       "      <td>38139.8593</td>\n",
       "    </tr>\n",
       "    <tr>\n",
       "      <th>4</th>\n",
       "      <td>2017-03-31</td>\n",
       "      <td>118041.0552</td>\n",
       "      <td>1845</td>\n",
       "      <td>23506.2026</td>\n",
       "    </tr>\n",
       "    <tr>\n",
       "      <th>5</th>\n",
       "      <td>2017-06-30</td>\n",
       "      <td>130551.0360</td>\n",
       "      <td>2551</td>\n",
       "      <td>15499.2085</td>\n",
       "    </tr>\n",
       "    <tr>\n",
       "      <th>6</th>\n",
       "      <td>2017-09-30</td>\n",
       "      <td>190216.9160</td>\n",
       "      <td>3384</td>\n",
       "      <td>26985.1325</td>\n",
       "    </tr>\n",
       "    <tr>\n",
       "      <th>7</th>\n",
       "      <td>2017-12-31</td>\n",
       "      <td>273487.9340</td>\n",
       "      <td>4696</td>\n",
       "      <td>27448.7260</td>\n",
       "    </tr>\n",
       "    <tr>\n",
       "      <th>8</th>\n",
       "      <td>2018-03-31</td>\n",
       "      <td>74231.8280</td>\n",
       "      <td>1028</td>\n",
       "      <td>3811.2290</td>\n",
       "    </tr>\n",
       "    <tr>\n",
       "      <th>9</th>\n",
       "      <td>2018-06-30</td>\n",
       "      <td>84780.2736</td>\n",
       "      <td>1523</td>\n",
       "      <td>11204.0692</td>\n",
       "    </tr>\n",
       "    <tr>\n",
       "      <th>10</th>\n",
       "      <td>2018-09-30</td>\n",
       "      <td>141973.0323</td>\n",
       "      <td>2159</td>\n",
       "      <td>12804.7218</td>\n",
       "    </tr>\n",
       "    <tr>\n",
       "      <th>11</th>\n",
       "      <td>2018-12-31</td>\n",
       "      <td>175924.5922</td>\n",
       "      <td>2871</td>\n",
       "      <td>21723.9541</td>\n",
       "    </tr>\n",
       "    <tr>\n",
       "      <th>12</th>\n",
       "      <td>2019-03-31</td>\n",
       "      <td>68708.7906</td>\n",
       "      <td>990</td>\n",
       "      <td>9264.9416</td>\n",
       "    </tr>\n",
       "    <tr>\n",
       "      <th>13</th>\n",
       "      <td>2019-06-30</td>\n",
       "      <td>87625.8250</td>\n",
       "      <td>1604</td>\n",
       "      <td>12190.9224</td>\n",
       "    </tr>\n",
       "    <tr>\n",
       "      <th>14</th>\n",
       "      <td>2019-09-30</td>\n",
       "      <td>126847.5072</td>\n",
       "      <td>2241</td>\n",
       "      <td>16853.6194</td>\n",
       "    </tr>\n",
       "    <tr>\n",
       "      <th>15</th>\n",
       "      <td>2019-12-31</td>\n",
       "      <td>176913.2982</td>\n",
       "      <td>3144</td>\n",
       "      <td>23309.1203</td>\n",
       "    </tr>\n",
       "  </tbody>\n",
       "</table>\n",
       "</div>"
      ],
      "text/plain": [
       "          Date        Sales  Quantity      Profit\n",
       "0   2016-03-31   92369.1410      1243  11441.3708\n",
       "1   2016-06-30  134586.0130      2240  16390.3394\n",
       "2   2016-09-30  137277.6242      2767  15823.6048\n",
       "3   2016-12-31  229642.8178      3587  38139.8593\n",
       "4   2017-03-31  118041.0552      1845  23506.2026\n",
       "5   2017-06-30  130551.0360      2551  15499.2085\n",
       "6   2017-09-30  190216.9160      3384  26985.1325\n",
       "7   2017-12-31  273487.9340      4696  27448.7260\n",
       "8   2018-03-31   74231.8280      1028   3811.2290\n",
       "9   2018-06-30   84780.2736      1523  11204.0692\n",
       "10  2018-09-30  141973.0323      2159  12804.7218\n",
       "11  2018-12-31  175924.5922      2871  21723.9541\n",
       "12  2019-03-31   68708.7906       990   9264.9416\n",
       "13  2019-06-30   87625.8250      1604  12190.9224\n",
       "14  2019-09-30  126847.5072      2241  16853.6194\n",
       "15  2019-12-31  176913.2982      3144  23309.1203"
      ]
     },
     "execution_count": 13,
     "metadata": {},
     "output_type": "execute_result"
    }
   ],
   "source": [
    "df"
   ]
  },
  {
   "cell_type": "code",
   "execution_count": 14,
   "metadata": {},
   "outputs": [
    {
     "data": {
      "text/html": [
       "<div>\n",
       "<style scoped>\n",
       "    .dataframe tbody tr th:only-of-type {\n",
       "        vertical-align: middle;\n",
       "    }\n",
       "\n",
       "    .dataframe tbody tr th {\n",
       "        vertical-align: top;\n",
       "    }\n",
       "\n",
       "    .dataframe thead th {\n",
       "        text-align: right;\n",
       "    }\n",
       "</style>\n",
       "<table border=\"1\" class=\"dataframe\">\n",
       "  <thead>\n",
       "    <tr style=\"text-align: right;\">\n",
       "      <th></th>\n",
       "      <th>Date</th>\n",
       "      <th>Sales</th>\n",
       "    </tr>\n",
       "  </thead>\n",
       "  <tbody>\n",
       "    <tr>\n",
       "      <th>0</th>\n",
       "      <td>2016-03-31</td>\n",
       "      <td>92369.1410</td>\n",
       "    </tr>\n",
       "    <tr>\n",
       "      <th>1</th>\n",
       "      <td>2016-06-30</td>\n",
       "      <td>134586.0130</td>\n",
       "    </tr>\n",
       "    <tr>\n",
       "      <th>2</th>\n",
       "      <td>2016-09-30</td>\n",
       "      <td>137277.6242</td>\n",
       "    </tr>\n",
       "    <tr>\n",
       "      <th>3</th>\n",
       "      <td>2016-12-31</td>\n",
       "      <td>229642.8178</td>\n",
       "    </tr>\n",
       "    <tr>\n",
       "      <th>4</th>\n",
       "      <td>2017-03-31</td>\n",
       "      <td>118041.0552</td>\n",
       "    </tr>\n",
       "    <tr>\n",
       "      <th>5</th>\n",
       "      <td>2017-06-30</td>\n",
       "      <td>130551.0360</td>\n",
       "    </tr>\n",
       "    <tr>\n",
       "      <th>6</th>\n",
       "      <td>2017-09-30</td>\n",
       "      <td>190216.9160</td>\n",
       "    </tr>\n",
       "    <tr>\n",
       "      <th>7</th>\n",
       "      <td>2017-12-31</td>\n",
       "      <td>273487.9340</td>\n",
       "    </tr>\n",
       "    <tr>\n",
       "      <th>8</th>\n",
       "      <td>2018-03-31</td>\n",
       "      <td>74231.8280</td>\n",
       "    </tr>\n",
       "    <tr>\n",
       "      <th>9</th>\n",
       "      <td>2018-06-30</td>\n",
       "      <td>84780.2736</td>\n",
       "    </tr>\n",
       "    <tr>\n",
       "      <th>10</th>\n",
       "      <td>2018-09-30</td>\n",
       "      <td>141973.0323</td>\n",
       "    </tr>\n",
       "    <tr>\n",
       "      <th>11</th>\n",
       "      <td>2018-12-31</td>\n",
       "      <td>175924.5922</td>\n",
       "    </tr>\n",
       "    <tr>\n",
       "      <th>12</th>\n",
       "      <td>2019-03-31</td>\n",
       "      <td>68708.7906</td>\n",
       "    </tr>\n",
       "    <tr>\n",
       "      <th>13</th>\n",
       "      <td>2019-06-30</td>\n",
       "      <td>87625.8250</td>\n",
       "    </tr>\n",
       "    <tr>\n",
       "      <th>14</th>\n",
       "      <td>2019-09-30</td>\n",
       "      <td>126847.5072</td>\n",
       "    </tr>\n",
       "    <tr>\n",
       "      <th>15</th>\n",
       "      <td>2019-12-31</td>\n",
       "      <td>176913.2982</td>\n",
       "    </tr>\n",
       "  </tbody>\n",
       "</table>\n",
       "</div>"
      ],
      "text/plain": [
       "          Date        Sales\n",
       "0   2016-03-31   92369.1410\n",
       "1   2016-06-30  134586.0130\n",
       "2   2016-09-30  137277.6242\n",
       "3   2016-12-31  229642.8178\n",
       "4   2017-03-31  118041.0552\n",
       "5   2017-06-30  130551.0360\n",
       "6   2017-09-30  190216.9160\n",
       "7   2017-12-31  273487.9340\n",
       "8   2018-03-31   74231.8280\n",
       "9   2018-06-30   84780.2736\n",
       "10  2018-09-30  141973.0323\n",
       "11  2018-12-31  175924.5922\n",
       "12  2019-03-31   68708.7906\n",
       "13  2019-06-30   87625.8250\n",
       "14  2019-09-30  126847.5072\n",
       "15  2019-12-31  176913.2982"
      ]
     },
     "execution_count": 14,
     "metadata": {},
     "output_type": "execute_result"
    }
   ],
   "source": [
    "df = df[['Date','Sales']]\n",
    "df"
   ]
  },
  {
   "cell_type": "code",
   "execution_count": 15,
   "metadata": {},
   "outputs": [],
   "source": [
    "#df.to_csv('sales_quarterly.csv')"
   ]
  },
  {
   "cell_type": "code",
   "execution_count": 16,
   "metadata": {},
   "outputs": [
    {
     "data": {
      "text/plain": [
       "<AxesSubplot:>"
      ]
     },
     "execution_count": 16,
     "metadata": {},
     "output_type": "execute_result"
    },
    {
     "data": {
      "image/png": "[encoded data removed]",
      "text/plain": [
       "<Figure size 432x288 with 1 Axes>"
      ]
     },
     "metadata": {
      "needs_background": "light"
     },
     "output_type": "display_data"
    }
   ],
   "source": [
    "df['Sales'].plot()"
   ]
  },
  {
   "cell_type": "code",
   "execution_count": 17,
   "metadata": {},
   "outputs": [
    {
     "data": {
      "image/png": "[encoded data removed]",
      "text/plain": [
       "<Figure size 432x288 with 1 Axes>"
      ]
     },
     "metadata": {
      "needs_background": "light"
     },
     "output_type": "display_data"
    }
   ],
   "source": [
    "df.plot(x='Date', y='Sales', kind='bar') \n",
    "plt.show()"
   ]
  },
  {
   "cell_type": "code",
   "execution_count": 18,
   "metadata": {},
   "outputs": [
    {
     "data": {
      "text/plain": [
       "pandas.core.frame.DataFrame"
      ]
     },
     "execution_count": 18,
     "metadata": {},
     "output_type": "execute_result"
    }
   ],
   "source": [
    "type(df)"
   ]
  },
  {
   "cell_type": "markdown",
   "metadata": {},
   "source": [
    "#### Time Series Analysis"
   ]
  },
  {
   "cell_type": "code",
   "execution_count": 19,
   "metadata": {},
   "outputs": [],
   "source": [
    "df = pd.read_csv('sales_quarterly.csv')"
   ]
  },
  {
   "cell_type": "code",
   "execution_count": 20,
   "metadata": {},
   "outputs": [
    {
     "data": {
      "text/html": [
       "<div>\n",
       "<style scoped>\n",
       "    .dataframe tbody tr th:only-of-type {\n",
       "        vertical-align: middle;\n",
       "    }\n",
       "\n",
       "    .dataframe tbody tr th {\n",
       "        vertical-align: top;\n",
       "    }\n",
       "\n",
       "    .dataframe thead th {\n",
       "        text-align: right;\n",
       "    }\n",
       "</style>\n",
       "<table border=\"1\" class=\"dataframe\">\n",
       "  <thead>\n",
       "    <tr style=\"text-align: right;\">\n",
       "      <th></th>\n",
       "      <th>Date</th>\n",
       "      <th>Sales</th>\n",
       "    </tr>\n",
       "  </thead>\n",
       "  <tbody>\n",
       "    <tr>\n",
       "      <th>0</th>\n",
       "      <td>3/31/2016</td>\n",
       "      <td>92369.1410</td>\n",
       "    </tr>\n",
       "    <tr>\n",
       "      <th>1</th>\n",
       "      <td>6/30/2016</td>\n",
       "      <td>134586.0130</td>\n",
       "    </tr>\n",
       "    <tr>\n",
       "      <th>2</th>\n",
       "      <td>9/30/2016</td>\n",
       "      <td>137277.6242</td>\n",
       "    </tr>\n",
       "    <tr>\n",
       "      <th>3</th>\n",
       "      <td>12/31/2016</td>\n",
       "      <td>229642.8178</td>\n",
       "    </tr>\n",
       "    <tr>\n",
       "      <th>4</th>\n",
       "      <td>3/31/2017</td>\n",
       "      <td>118041.0552</td>\n",
       "    </tr>\n",
       "    <tr>\n",
       "      <th>5</th>\n",
       "      <td>6/30/2017</td>\n",
       "      <td>130551.0360</td>\n",
       "    </tr>\n",
       "    <tr>\n",
       "      <th>6</th>\n",
       "      <td>9/30/2017</td>\n",
       "      <td>190216.9160</td>\n",
       "    </tr>\n",
       "    <tr>\n",
       "      <th>7</th>\n",
       "      <td>12/31/2017</td>\n",
       "      <td>273487.9340</td>\n",
       "    </tr>\n",
       "    <tr>\n",
       "      <th>8</th>\n",
       "      <td>3/31/2018</td>\n",
       "      <td>74231.8280</td>\n",
       "    </tr>\n",
       "    <tr>\n",
       "      <th>9</th>\n",
       "      <td>6/30/2018</td>\n",
       "      <td>84780.2736</td>\n",
       "    </tr>\n",
       "    <tr>\n",
       "      <th>10</th>\n",
       "      <td>9/30/2018</td>\n",
       "      <td>141973.0323</td>\n",
       "    </tr>\n",
       "    <tr>\n",
       "      <th>11</th>\n",
       "      <td>12/31/2018</td>\n",
       "      <td>175924.5922</td>\n",
       "    </tr>\n",
       "    <tr>\n",
       "      <th>12</th>\n",
       "      <td>3/31/2019</td>\n",
       "      <td>68708.7906</td>\n",
       "    </tr>\n",
       "    <tr>\n",
       "      <th>13</th>\n",
       "      <td>6/30/2019</td>\n",
       "      <td>87625.8250</td>\n",
       "    </tr>\n",
       "    <tr>\n",
       "      <th>14</th>\n",
       "      <td>9/30/2019</td>\n",
       "      <td>126847.5072</td>\n",
       "    </tr>\n",
       "    <tr>\n",
       "      <th>15</th>\n",
       "      <td>12/31/2019</td>\n",
       "      <td>176913.2982</td>\n",
       "    </tr>\n",
       "  </tbody>\n",
       "</table>\n",
       "</div>"
      ],
      "text/plain": [
       "          Date        Sales\n",
       "0    3/31/2016   92369.1410\n",
       "1    6/30/2016  134586.0130\n",
       "2    9/30/2016  137277.6242\n",
       "3   12/31/2016  229642.8178\n",
       "4    3/31/2017  118041.0552\n",
       "5    6/30/2017  130551.0360\n",
       "6    9/30/2017  190216.9160\n",
       "7   12/31/2017  273487.9340\n",
       "8    3/31/2018   74231.8280\n",
       "9    6/30/2018   84780.2736\n",
       "10   9/30/2018  141973.0323\n",
       "11  12/31/2018  175924.5922\n",
       "12   3/31/2019   68708.7906\n",
       "13   6/30/2019   87625.8250\n",
       "14   9/30/2019  126847.5072\n",
       "15  12/31/2019  176913.2982"
      ]
     },
     "execution_count": 20,
     "metadata": {},
     "output_type": "execute_result"
    }
   ],
   "source": [
    "df"
   ]
  },
  {
   "cell_type": "code",
   "execution_count": 21,
   "metadata": {},
   "outputs": [
    {
     "data": {
      "text/plain": [
       "pandas.core.frame.DataFrame"
      ]
     },
     "execution_count": 21,
     "metadata": {},
     "output_type": "execute_result"
    }
   ],
   "source": [
    "type(df)"
   ]
  },
  {
   "cell_type": "code",
   "execution_count": 22,
   "metadata": {},
   "outputs": [],
   "source": [
    "# Import data as a series\n",
    "new_sales = pd.read_csv('sales_quarterly.csv', index_col=[0], parse_dates=True,squeeze=True)\n"
   ]
  },
  {
   "cell_type": "code",
   "execution_count": 23,
   "metadata": {},
   "outputs": [
    {
     "data": {
      "text/plain": [
       "Date\n",
       "2016-03-31     92369.1410\n",
       "2016-06-30    134586.0130\n",
       "2016-09-30    137277.6242\n",
       "2016-12-31    229642.8178\n",
       "2017-03-31    118041.0552\n",
       "2017-06-30    130551.0360\n",
       "2017-09-30    190216.9160\n",
       "2017-12-31    273487.9340\n",
       "2018-03-31     74231.8280\n",
       "2018-06-30     84780.2736\n",
       "2018-09-30    141973.0323\n",
       "2018-12-31    175924.5922\n",
       "2019-03-31     68708.7906\n",
       "2019-06-30     87625.8250\n",
       "2019-09-30    126847.5072\n",
       "2019-12-31    176913.2982\n",
       "Name: Sales, dtype: float64"
      ]
     },
     "execution_count": 23,
     "metadata": {},
     "output_type": "execute_result"
    }
   ],
   "source": [
    "new_sales"
   ]
  },
  {
   "cell_type": "code",
   "execution_count": 24,
   "metadata": {},
   "outputs": [
    {
     "data": {
      "text/plain": [
       "pandas.core.series.Series"
      ]
     },
     "execution_count": 24,
     "metadata": {},
     "output_type": "execute_result"
    }
   ],
   "source": [
    "type(new_sales)"
   ]
  },
  {
   "cell_type": "markdown",
   "metadata": {},
   "source": [
    "#### Time Series Decomposition\n",
    "##### Additive Model\n",
    "##### Y(t) = Trendt(t) + Seosonality + Residual(t)"
   ]
  },
  {
   "cell_type": "code",
   "execution_count": 25,
   "metadata": {},
   "outputs": [
    {
     "data": {
      "image/png": "[encoded data removed]",
      "text/plain": [
       "<Figure size 1008x504 with 4 Axes>"
      ]
     },
     "metadata": {
      "needs_background": "light"
     },
     "output_type": "display_data"
    }
   ],
   "source": [
    "import statsmodels.api as sm\n",
    "decomposition = sm.tsa.seasonal_decompose(new_sales, model='additive')\n",
    "fig = decomposition.plot()\n",
    "fig.set_size_inches(14,7)\n",
    "plt.show()"
   ]
  },
  {
   "cell_type": "markdown",
   "metadata": {},
   "source": [
    "#### From the figure above, we see the seasonality of data. Sales increase from quarter one to quarter four for each year."
   ]
  },
  {
   "cell_type": "markdown",
   "metadata": {},
   "source": [
    "#### To predict quarter sales we use sales 2019 and supervised machine learning "
   ]
  },
  {
   "cell_type": "code",
   "execution_count": 39,
   "metadata": {},
   "outputs": [],
   "source": [
    "dataset = pd.read_csv('sales_data.csv')"
   ]
  },
  {
   "cell_type": "code",
   "execution_count": 40,
   "metadata": {},
   "outputs": [
    {
     "data": {
      "text/html": [
       "<div>\n",
       "<style scoped>\n",
       "    .dataframe tbody tr th:only-of-type {\n",
       "        vertical-align: middle;\n",
       "    }\n",
       "\n",
       "    .dataframe tbody tr th {\n",
       "        vertical-align: top;\n",
       "    }\n",
       "\n",
       "    .dataframe thead th {\n",
       "        text-align: right;\n",
       "    }\n",
       "</style>\n",
       "<table border=\"1\" class=\"dataframe\">\n",
       "  <thead>\n",
       "    <tr style=\"text-align: right;\">\n",
       "      <th></th>\n",
       "      <th>Date</th>\n",
       "      <th>Sales</th>\n",
       "      <th>Quantity</th>\n",
       "      <th>Profit</th>\n",
       "    </tr>\n",
       "  </thead>\n",
       "  <tbody>\n",
       "    <tr>\n",
       "      <th>0</th>\n",
       "      <td>2016-03-31</td>\n",
       "      <td>92369.1410</td>\n",
       "      <td>1243</td>\n",
       "      <td>11441.3708</td>\n",
       "    </tr>\n",
       "    <tr>\n",
       "      <th>1</th>\n",
       "      <td>2016-06-30</td>\n",
       "      <td>134586.0130</td>\n",
       "      <td>2240</td>\n",
       "      <td>16390.3394</td>\n",
       "    </tr>\n",
       "    <tr>\n",
       "      <th>2</th>\n",
       "      <td>2016-09-30</td>\n",
       "      <td>137277.6242</td>\n",
       "      <td>2767</td>\n",
       "      <td>15823.6048</td>\n",
       "    </tr>\n",
       "    <tr>\n",
       "      <th>3</th>\n",
       "      <td>2016-12-31</td>\n",
       "      <td>229642.8178</td>\n",
       "      <td>3587</td>\n",
       "      <td>38139.8593</td>\n",
       "    </tr>\n",
       "    <tr>\n",
       "      <th>4</th>\n",
       "      <td>2017-03-31</td>\n",
       "      <td>118041.0552</td>\n",
       "      <td>1845</td>\n",
       "      <td>23506.2026</td>\n",
       "    </tr>\n",
       "    <tr>\n",
       "      <th>5</th>\n",
       "      <td>2017-06-30</td>\n",
       "      <td>130551.0360</td>\n",
       "      <td>2551</td>\n",
       "      <td>15499.2085</td>\n",
       "    </tr>\n",
       "    <tr>\n",
       "      <th>6</th>\n",
       "      <td>2017-09-30</td>\n",
       "      <td>190216.9160</td>\n",
       "      <td>3384</td>\n",
       "      <td>26985.1325</td>\n",
       "    </tr>\n",
       "    <tr>\n",
       "      <th>7</th>\n",
       "      <td>2017-12-31</td>\n",
       "      <td>273487.9340</td>\n",
       "      <td>4696</td>\n",
       "      <td>27448.7260</td>\n",
       "    </tr>\n",
       "    <tr>\n",
       "      <th>8</th>\n",
       "      <td>2018-03-31</td>\n",
       "      <td>74231.8280</td>\n",
       "      <td>1028</td>\n",
       "      <td>3811.2290</td>\n",
       "    </tr>\n",
       "    <tr>\n",
       "      <th>9</th>\n",
       "      <td>2018-06-30</td>\n",
       "      <td>84780.2736</td>\n",
       "      <td>1523</td>\n",
       "      <td>11204.0692</td>\n",
       "    </tr>\n",
       "    <tr>\n",
       "      <th>10</th>\n",
       "      <td>2018-09-30</td>\n",
       "      <td>141973.0323</td>\n",
       "      <td>2159</td>\n",
       "      <td>12804.7218</td>\n",
       "    </tr>\n",
       "    <tr>\n",
       "      <th>11</th>\n",
       "      <td>2018-12-31</td>\n",
       "      <td>175924.5922</td>\n",
       "      <td>2871</td>\n",
       "      <td>21723.9541</td>\n",
       "    </tr>\n",
       "    <tr>\n",
       "      <th>12</th>\n",
       "      <td>2019-03-31</td>\n",
       "      <td>68708.7906</td>\n",
       "      <td>990</td>\n",
       "      <td>9264.9416</td>\n",
       "    </tr>\n",
       "    <tr>\n",
       "      <th>13</th>\n",
       "      <td>2019-06-30</td>\n",
       "      <td>87625.8250</td>\n",
       "      <td>1604</td>\n",
       "      <td>12190.9224</td>\n",
       "    </tr>\n",
       "    <tr>\n",
       "      <th>14</th>\n",
       "      <td>2019-09-30</td>\n",
       "      <td>126847.5072</td>\n",
       "      <td>2241</td>\n",
       "      <td>16853.6194</td>\n",
       "    </tr>\n",
       "    <tr>\n",
       "      <th>15</th>\n",
       "      <td>2019-12-31</td>\n",
       "      <td>176913.2982</td>\n",
       "      <td>3144</td>\n",
       "      <td>23309.1203</td>\n",
       "    </tr>\n",
       "  </tbody>\n",
       "</table>\n",
       "</div>"
      ],
      "text/plain": [
       "          Date        Sales  Quantity      Profit\n",
       "0   2016-03-31   92369.1410      1243  11441.3708\n",
       "1   2016-06-30  134586.0130      2240  16390.3394\n",
       "2   2016-09-30  137277.6242      2767  15823.6048\n",
       "3   2016-12-31  229642.8178      3587  38139.8593\n",
       "4   2017-03-31  118041.0552      1845  23506.2026\n",
       "5   2017-06-30  130551.0360      2551  15499.2085\n",
       "6   2017-09-30  190216.9160      3384  26985.1325\n",
       "7   2017-12-31  273487.9340      4696  27448.7260\n",
       "8   2018-03-31   74231.8280      1028   3811.2290\n",
       "9   2018-06-30   84780.2736      1523  11204.0692\n",
       "10  2018-09-30  141973.0323      2159  12804.7218\n",
       "11  2018-12-31  175924.5922      2871  21723.9541\n",
       "12  2019-03-31   68708.7906       990   9264.9416\n",
       "13  2019-06-30   87625.8250      1604  12190.9224\n",
       "14  2019-09-30  126847.5072      2241  16853.6194\n",
       "15  2019-12-31  176913.2982      3144  23309.1203"
      ]
     },
     "execution_count": 40,
     "metadata": {},
     "output_type": "execute_result"
    }
   ],
   "source": [
    "dataset"
   ]
  },
  {
   "cell_type": "code",
   "execution_count": 41,
   "metadata": {},
   "outputs": [],
   "source": [
    "start_date = '2019-01-01'\n",
    "end_date = '2019-12-31'"
   ]
  },
  {
   "cell_type": "code",
   "execution_count": 42,
   "metadata": {},
   "outputs": [],
   "source": [
    "mask = (dataset['Date'] > start_date) & (dataset['Date'] <= end_date)"
   ]
  },
  {
   "cell_type": "code",
   "execution_count": 43,
   "metadata": {},
   "outputs": [
    {
     "data": {
      "text/html": [
       "<div>\n",
       "<style scoped>\n",
       "    .dataframe tbody tr th:only-of-type {\n",
       "        vertical-align: middle;\n",
       "    }\n",
       "\n",
       "    .dataframe tbody tr th {\n",
       "        vertical-align: top;\n",
       "    }\n",
       "\n",
       "    .dataframe thead th {\n",
       "        text-align: right;\n",
       "    }\n",
       "</style>\n",
       "<table border=\"1\" class=\"dataframe\">\n",
       "  <thead>\n",
       "    <tr style=\"text-align: right;\">\n",
       "      <th></th>\n",
       "      <th>Date</th>\n",
       "      <th>Sales</th>\n",
       "      <th>Quantity</th>\n",
       "      <th>Profit</th>\n",
       "    </tr>\n",
       "  </thead>\n",
       "  <tbody>\n",
       "    <tr>\n",
       "      <th>12</th>\n",
       "      <td>2019-03-31</td>\n",
       "      <td>68708.7906</td>\n",
       "      <td>990</td>\n",
       "      <td>9264.9416</td>\n",
       "    </tr>\n",
       "    <tr>\n",
       "      <th>13</th>\n",
       "      <td>2019-06-30</td>\n",
       "      <td>87625.8250</td>\n",
       "      <td>1604</td>\n",
       "      <td>12190.9224</td>\n",
       "    </tr>\n",
       "    <tr>\n",
       "      <th>14</th>\n",
       "      <td>2019-09-30</td>\n",
       "      <td>126847.5072</td>\n",
       "      <td>2241</td>\n",
       "      <td>16853.6194</td>\n",
       "    </tr>\n",
       "    <tr>\n",
       "      <th>15</th>\n",
       "      <td>2019-12-31</td>\n",
       "      <td>176913.2982</td>\n",
       "      <td>3144</td>\n",
       "      <td>23309.1203</td>\n",
       "    </tr>\n",
       "  </tbody>\n",
       "</table>\n",
       "</div>"
      ],
      "text/plain": [
       "          Date        Sales  Quantity      Profit\n",
       "12  2019-03-31   68708.7906       990   9264.9416\n",
       "13  2019-06-30   87625.8250      1604  12190.9224\n",
       "14  2019-09-30  126847.5072      2241  16853.6194\n",
       "15  2019-12-31  176913.2982      3144  23309.1203"
      ]
     },
     "execution_count": 43,
     "metadata": {},
     "output_type": "execute_result"
    }
   ],
   "source": [
    "dataset = dataset.loc[mask]\n",
    "dataset"
   ]
  },
  {
   "cell_type": "code",
   "execution_count": 44,
   "metadata": {},
   "outputs": [
    {
     "name": "stderr",
     "output_type": "stream",
     "text": [
      "<ipython-input-44-4800b01f3d47>:4: SettingWithCopyWarning: \n",
      "A value is trying to be set on a copy of a slice from a DataFrame.\n",
      "Try using .loc[row_indexer,col_indexer] = value instead\n",
      "\n",
      "See the caveats in the documentation: https://pandas.pydata.org/pandas-docs/stable/user_guide/indexing.html#returning-a-view-versus-a-copy\n",
      "  dataset[\"Quarter\"] = column_values\n"
     ]
    },
    {
     "data": {
      "text/html": [
       "<div>\n",
       "<style scoped>\n",
       "    .dataframe tbody tr th:only-of-type {\n",
       "        vertical-align: middle;\n",
       "    }\n",
       "\n",
       "    .dataframe tbody tr th {\n",
       "        vertical-align: top;\n",
       "    }\n",
       "\n",
       "    .dataframe thead th {\n",
       "        text-align: right;\n",
       "    }\n",
       "</style>\n",
       "<table border=\"1\" class=\"dataframe\">\n",
       "  <thead>\n",
       "    <tr style=\"text-align: right;\">\n",
       "      <th></th>\n",
       "      <th>Date</th>\n",
       "      <th>Sales</th>\n",
       "      <th>Quantity</th>\n",
       "      <th>Profit</th>\n",
       "      <th>Quarter</th>\n",
       "    </tr>\n",
       "  </thead>\n",
       "  <tbody>\n",
       "    <tr>\n",
       "      <th>12</th>\n",
       "      <td>2019-03-31</td>\n",
       "      <td>68708.7906</td>\n",
       "      <td>990</td>\n",
       "      <td>9264.9416</td>\n",
       "      <td>1</td>\n",
       "    </tr>\n",
       "    <tr>\n",
       "      <th>13</th>\n",
       "      <td>2019-06-30</td>\n",
       "      <td>87625.8250</td>\n",
       "      <td>1604</td>\n",
       "      <td>12190.9224</td>\n",
       "      <td>2</td>\n",
       "    </tr>\n",
       "    <tr>\n",
       "      <th>14</th>\n",
       "      <td>2019-09-30</td>\n",
       "      <td>126847.5072</td>\n",
       "      <td>2241</td>\n",
       "      <td>16853.6194</td>\n",
       "      <td>3</td>\n",
       "    </tr>\n",
       "    <tr>\n",
       "      <th>15</th>\n",
       "      <td>2019-12-31</td>\n",
       "      <td>176913.2982</td>\n",
       "      <td>3144</td>\n",
       "      <td>23309.1203</td>\n",
       "      <td>4</td>\n",
       "    </tr>\n",
       "  </tbody>\n",
       "</table>\n",
       "</div>"
      ],
      "text/plain": [
       "          Date        Sales  Quantity      Profit Quarter\n",
       "12  2019-03-31   68708.7906       990   9264.9416       1\n",
       "13  2019-06-30   87625.8250      1604  12190.9224       2\n",
       "14  2019-09-30  126847.5072      2241  16853.6194       3\n",
       "15  2019-12-31  176913.2982      3144  23309.1203       4"
      ]
     },
     "execution_count": 44,
     "metadata": {},
     "output_type": "execute_result"
    }
   ],
   "source": [
    "# Ad Quarter Column\n",
    "column_values = ['1','2','3','4']\n",
    "\n",
    "dataset[\"Quarter\"] = column_values \n",
    "\n",
    "dataset"
   ]
  },
  {
   "cell_type": "code",
   "execution_count": 45,
   "metadata": {},
   "outputs": [
    {
     "data": {
      "text/plain": [
       "<AxesSubplot:>"
      ]
     },
     "execution_count": 45,
     "metadata": {},
     "output_type": "execute_result"
    },
    {
     "data": {
      "image/png": "[encoded data removed]",
      "text/plain": [
       "<Figure size 432x288 with 1 Axes>"
      ]
     },
     "metadata": {
      "needs_background": "light"
     },
     "output_type": "display_data"
    }
   ],
   "source": [
    "dataset.plot()"
   ]
  },
  {
   "cell_type": "code",
   "execution_count": 46,
   "metadata": {},
   "outputs": [
    {
     "name": "stderr",
     "output_type": "stream",
     "text": [
      "C:\\Users\\Admin\\anaconda3\\lib\\site-packages\\pandas\\plotting\\_matplotlib\\core.py:1041: MatplotlibDeprecationWarning: Case-insensitive properties were deprecated in 3.3 and support will be removed two minor releases later\n",
      "  scatter = ax.scatter(\n"
     ]
    },
    {
     "data": {
      "image/png": "[encoded data removed]",
      "text/plain": [
       "<Figure size 432x288 with 1 Axes>"
      ]
     },
     "metadata": {
      "needs_background": "light"
     },
     "output_type": "display_data"
    }
   ],
   "source": [
    "# Plot dataset to see sales changes based on quarter\n",
    "dataset.plot.scatter(x='Quarter', y='Sales', color='b', LineStyle='-', linewidth=2.5, s=1);\n"
   ]
  },
  {
   "cell_type": "markdown",
   "metadata": {},
   "source": [
    "#### We see that the Sales and Quarter  has linear relationship "
   ]
  },
  {
   "cell_type": "code",
   "execution_count": 47,
   "metadata": {},
   "outputs": [
    {
     "data": {
      "image/png": "[encoded data removed]",
      "text/plain": [
       "<Figure size 432x288 with 1 Axes>"
      ]
     },
     "metadata": {
      "needs_background": "light"
     },
     "output_type": "display_data"
    }
   ],
   "source": [
    "# Barchar plot \n",
    "dataset.plot(x='Quarter', y='Sales', kind='bar') \n",
    "plt.show()"
   ]
  },
  {
   "cell_type": "code",
   "execution_count": 48,
   "metadata": {},
   "outputs": [],
   "source": [
    "# split data to features and a target \n",
    "x_data = dataset.drop(['Sales', 'Date'],axis=1)\n",
    "y_data = dataset['Sales']"
   ]
  },
  {
   "cell_type": "code",
   "execution_count": 49,
   "metadata": {},
   "outputs": [
    {
     "data": {
      "text/html": [
       "<div>\n",
       "<style scoped>\n",
       "    .dataframe tbody tr th:only-of-type {\n",
       "        vertical-align: middle;\n",
       "    }\n",
       "\n",
       "    .dataframe tbody tr th {\n",
       "        vertical-align: top;\n",
       "    }\n",
       "\n",
       "    .dataframe thead th {\n",
       "        text-align: right;\n",
       "    }\n",
       "</style>\n",
       "<table border=\"1\" class=\"dataframe\">\n",
       "  <thead>\n",
       "    <tr style=\"text-align: right;\">\n",
       "      <th></th>\n",
       "      <th>Quantity</th>\n",
       "      <th>Profit</th>\n",
       "      <th>Quarter</th>\n",
       "    </tr>\n",
       "  </thead>\n",
       "  <tbody>\n",
       "    <tr>\n",
       "      <th>12</th>\n",
       "      <td>990</td>\n",
       "      <td>9264.9416</td>\n",
       "      <td>1</td>\n",
       "    </tr>\n",
       "    <tr>\n",
       "      <th>13</th>\n",
       "      <td>1604</td>\n",
       "      <td>12190.9224</td>\n",
       "      <td>2</td>\n",
       "    </tr>\n",
       "    <tr>\n",
       "      <th>14</th>\n",
       "      <td>2241</td>\n",
       "      <td>16853.6194</td>\n",
       "      <td>3</td>\n",
       "    </tr>\n",
       "    <tr>\n",
       "      <th>15</th>\n",
       "      <td>3144</td>\n",
       "      <td>23309.1203</td>\n",
       "      <td>4</td>\n",
       "    </tr>\n",
       "  </tbody>\n",
       "</table>\n",
       "</div>"
      ],
      "text/plain": [
       "    Quantity      Profit Quarter\n",
       "12       990   9264.9416       1\n",
       "13      1604  12190.9224       2\n",
       "14      2241  16853.6194       3\n",
       "15      3144  23309.1203       4"
      ]
     },
     "execution_count": 49,
     "metadata": {},
     "output_type": "execute_result"
    }
   ],
   "source": [
    "x_data"
   ]
  },
  {
   "cell_type": "code",
   "execution_count": 50,
   "metadata": {},
   "outputs": [
    {
     "data": {
      "text/plain": [
       "12     68708.7906\n",
       "13     87625.8250\n",
       "14    126847.5072\n",
       "15    176913.2982\n",
       "Name: Sales, dtype: float64"
      ]
     },
     "execution_count": 50,
     "metadata": {},
     "output_type": "execute_result"
    }
   ],
   "source": [
    "#check data\n",
    "y_data"
   ]
  },
  {
   "cell_type": "code",
   "execution_count": 51,
   "metadata": {},
   "outputs": [],
   "source": [
    "# Split the data to train and test \n",
    "from sklearn.model_selection import train_test_split\n",
    "x_train, x_test, y_train, y_test = train_test_split(x_data, y_data ,test_size = 0.2, shuffle=False)"
   ]
  },
  {
   "cell_type": "code",
   "execution_count": 52,
   "metadata": {},
   "outputs": [
    {
     "data": {
      "text/html": [
       "<div>\n",
       "<style scoped>\n",
       "    .dataframe tbody tr th:only-of-type {\n",
       "        vertical-align: middle;\n",
       "    }\n",
       "\n",
       "    .dataframe tbody tr th {\n",
       "        vertical-align: top;\n",
       "    }\n",
       "\n",
       "    .dataframe thead th {\n",
       "        text-align: right;\n",
       "    }\n",
       "</style>\n",
       "<table border=\"1\" class=\"dataframe\">\n",
       "  <thead>\n",
       "    <tr style=\"text-align: right;\">\n",
       "      <th></th>\n",
       "      <th>Quantity</th>\n",
       "      <th>Profit</th>\n",
       "      <th>Quarter</th>\n",
       "    </tr>\n",
       "  </thead>\n",
       "  <tbody>\n",
       "    <tr>\n",
       "      <th>12</th>\n",
       "      <td>990</td>\n",
       "      <td>9264.9416</td>\n",
       "      <td>1</td>\n",
       "    </tr>\n",
       "    <tr>\n",
       "      <th>13</th>\n",
       "      <td>1604</td>\n",
       "      <td>12190.9224</td>\n",
       "      <td>2</td>\n",
       "    </tr>\n",
       "    <tr>\n",
       "      <th>14</th>\n",
       "      <td>2241</td>\n",
       "      <td>16853.6194</td>\n",
       "      <td>3</td>\n",
       "    </tr>\n",
       "  </tbody>\n",
       "</table>\n",
       "</div>"
      ],
      "text/plain": [
       "    Quantity      Profit Quarter\n",
       "12       990   9264.9416       1\n",
       "13      1604  12190.9224       2\n",
       "14      2241  16853.6194       3"
      ]
     },
     "execution_count": 52,
     "metadata": {},
     "output_type": "execute_result"
    }
   ],
   "source": [
    "x_train"
   ]
  },
  {
   "cell_type": "code",
   "execution_count": 53,
   "metadata": {},
   "outputs": [
    {
     "data": {
      "text/plain": [
       "12     68708.7906\n",
       "13     87625.8250\n",
       "14    126847.5072\n",
       "Name: Sales, dtype: float64"
      ]
     },
     "execution_count": 53,
     "metadata": {},
     "output_type": "execute_result"
    }
   ],
   "source": [
    "y_train"
   ]
  },
  {
   "cell_type": "markdown",
   "metadata": {},
   "source": [
    "#### Building Linear Regression Models"
   ]
  },
  {
   "cell_type": "code",
   "execution_count": 54,
   "metadata": {},
   "outputs": [
    {
     "name": "stdout",
     "output_type": "stream",
     "text": [
      "1.0\n"
     ]
    }
   ],
   "source": [
    "import sklearn.linear_model\n",
    "linear_model = sklearn.linear_model.LinearRegression()\n",
    "linear_model.fit(x_train,y_train)\n",
    "linear_prediction = linear_model.predict(x_test)\n",
    "#print(linear_prediction)\n",
    "R2 = linear_model.score(x_train,y_train)\n",
    "print (R2)"
   ]
  },
  {
   "cell_type": "code",
   "execution_count": 55,
   "metadata": {},
   "outputs": [
    {
     "name": "stdout",
     "output_type": "stream",
     "text": [
      "8.401552174322216e-12\n"
     ]
    }
   ],
   "source": [
    "#RMSE for linear\n",
    "import numpy\n",
    "e = y_train - linear_model.predict(x_train)\n",
    "MSE = numpy.square(e).mean()\n",
    "RMSE = numpy.sqrt(MSE)\n",
    "print (RMSE)"
   ]
  },
  {
   "cell_type": "code",
   "execution_count": 56,
   "metadata": {},
   "outputs": [],
   "source": [
    "# Let's try random forest \n",
    "import sklearn.ensemble\n",
    "rr_model = sklearn.ensemble.RandomForestRegressor(n_estimators=50)\n",
    "rr_model.fit(x_train,y_train)\n",
    "rr_predict = rr_model.predict(x_test)"
   ]
  },
  {
   "cell_type": "code",
   "execution_count": 57,
   "metadata": {},
   "outputs": [
    {
     "name": "stdout",
     "output_type": "stream",
     "text": [
      "0.8686030260352161\n"
     ]
    }
   ],
   "source": [
    "R2 = rr_model.score(x_train,y_train)\n",
    "print (R2)"
   ]
  },
  {
   "cell_type": "code",
   "execution_count": 58,
   "metadata": {},
   "outputs": [
    {
     "name": "stdout",
     "output_type": "stream",
     "text": [
      "8776.803387222097\n"
     ]
    }
   ],
   "source": [
    "#RMSE for random forest\n",
    "e = y_train - rr_model.predict(x_train)\n",
    "MSE = numpy.square(e).mean()\n",
    "RMSE = numpy.sqrt(MSE)\n",
    "print (RMSE)"
   ]
  },
  {
   "cell_type": "code",
   "execution_count": 59,
   "metadata": {},
   "outputs": [
    {
     "name": "stdout",
     "output_type": "stream",
     "text": [
      "[199277.34456568]\n",
      "[180589.26417916]\n"
     ]
    }
   ],
   "source": [
    "#Lasso\n",
    "lasso_model = sklearn.linear_model.Lasso(alpha=1.0)\n",
    "lasso_model.fit(x_train,y_train)\n",
    "lasso_predict = lasso_model.predict(x_test)\n",
    "print(lasso_predict)\n",
    "\n",
    "#Ridge\n",
    "r_model = sklearn.linear_model.Ridge(alpha=1.0)\n",
    "r_model.fit(x_train,y_train)\n",
    "r_predict = r_model.predict(x_test)\n",
    "print(r_predict)"
   ]
  },
  {
   "cell_type": "code",
   "execution_count": 60,
   "metadata": {},
   "outputs": [
    {
     "name": "stdout",
     "output_type": "stream",
     "text": [
      "0.9999976976006509\n",
      "36.73956540788079\n"
     ]
    }
   ],
   "source": [
    "#R2 for lasso\n",
    "R2 = lasso_model.score(x_train,y_train)\n",
    "print (R2)\n",
    "\n",
    "#RMSE for lasso\n",
    "e = y_train - lasso_model.predict(x_train)\n",
    "MSE = numpy.square(e).mean()\n",
    "RMSE = numpy.sqrt(MSE)\n",
    "print (RMSE)"
   ]
  },
  {
   "cell_type": "code",
   "execution_count": 61,
   "metadata": {},
   "outputs": [
    {
     "name": "stdout",
     "output_type": "stream",
     "text": [
      "0.9999999999592317\n",
      "0.15459839918808216\n"
     ]
    }
   ],
   "source": [
    "#R2 for ridge\n",
    "R2 = r_model.score(x_train,y_train)\n",
    "print (R2)\n",
    "\n",
    "#RMSE for ridge\n",
    "e = y_train - r_model.predict(x_train)\n",
    "MSE = numpy.square(e).mean()\n",
    "RMSE = numpy.sqrt(MSE)\n",
    "print (RMSE)"
   ]
  },
  {
   "cell_type": "markdown",
   "metadata": {},
   "source": [
    "## Making Predictions"
   ]
  },
  {
   "cell_type": "markdown",
   "metadata": {},
   "source": [
    "### The best model to predict sales is  Ride Model"
   ]
  },
  {
   "cell_type": "code",
   "execution_count": 66,
   "metadata": {},
   "outputs": [
    {
     "data": {
      "text/plain": [
       "15    176913.2982\n",
       "Name: Sales, dtype: float64"
      ]
     },
     "execution_count": 66,
     "metadata": {},
     "output_type": "execute_result"
    }
   ],
   "source": [
    "y_test "
   ]
  },
  {
   "cell_type": "code",
   "execution_count": 68,
   "metadata": {},
   "outputs": [],
   "source": [
    "y_pred = r_model.predict(x_test)"
   ]
  },
  {
   "cell_type": "code",
   "execution_count": 69,
   "metadata": {},
   "outputs": [
    {
     "data": {
      "text/plain": [
       "array([180589.26417916])"
      ]
     },
     "execution_count": 69,
     "metadata": {},
     "output_type": "execute_result"
    }
   ],
   "source": [
    "y_pred"
   ]
  },
  {
   "cell_type": "code",
   "execution_count": 71,
   "metadata": {},
   "outputs": [
    {
     "name": "stdout",
     "output_type": "stream",
     "text": [
      "   Actual_Sales  Predicted_Sales\n",
      "0   176913.2982    180589.264179\n"
     ]
    }
   ],
   "source": [
    "data = {'Actual_Sales':  [176913.2982],\n",
    "        'Predicted_Sales': [180589.26417916]}\n",
    "\n",
    "result = pd.DataFrame(data)\n",
    "\n",
    "print (result)"
   ]
  },
  {
   "cell_type": "code",
   "execution_count": null,
   "metadata": {},
   "outputs": [],
   "source": []
  }
 ],
 "metadata": {
  "interpreter": {
   "hash": "183bbf6827d058c2a2fb0f4acdc0420849dda2b4380af0e437e38c64d798d8b7"
  },
  "kernelspec": {
   "display_name": "Python 3.8.8 64-bit ('base': conda)",
   "language": "python",
   "name": "python3"
  },
  "language_info": {
   "codemirror_mode": {
    "name": "ipython",
    "version": 3
   },
   "file_extension": ".py",
   "mimetype": "text/x-python",
   "name": "python",
   "nbconvert_exporter": "python",
   "pygments_lexer": "ipython3",
   "version": "3.8.8"
  },
  "orig_nbformat": 4
 },
 "nbformat": 4,
 "nbformat_minor": 2
}
